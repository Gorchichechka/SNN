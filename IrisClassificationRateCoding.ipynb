{
 "cells": [
  {
   "cell_type": "code",
   "execution_count": 82,
   "id": "409c7bc9",
   "metadata": {},
   "outputs": [],
   "source": [
    "import ExpNeuron as en\n",
    "\n",
    "import torch\n",
    "import torch.nn as nn\n",
    "import snntorch as snn\n",
    "import snntorch.functional as snnfunc\n",
    "import snntorch.spikegen as snngen\n",
    "from torch.utils.data import DataLoader, TensorDataset, random_split\n",
    "import pandas as pd"
   ]
  },
  {
   "cell_type": "code",
   "execution_count": 91,
   "id": "82b5c080",
   "metadata": {},
   "outputs": [],
   "source": [
    "class Net(nn.Module):\n",
    "\tdef __init__(self, beta = 0.8, threshold = 0.5, membrane_zero = 0.2, membrane_min = 0.0):\n",
    "\t\tsuper().__init__()\n",
    "\t\tself.fll = nn.Linear(4, 4, bias = False)\n",
    "\t\tself.fsl = en.ExpNeuron(beta = beta, threshold = threshold,\n",
    "\t\t\t\t\t\t\t\t   \tmembrane_zero= membrane_zero,\n",
    "\t\t\t\t\t\t\t\t\tmembrane_min = membrane_min,\n",
    "\t\t\t\t\t\t\t\t\tlearn_beta= True, \n",
    "\t\t\t\t\t\t\t\t\tlearn_threshold= True)\n",
    "\t\t\n",
    "\t\tself.sll = nn.Linear(4, 3, bias = False)\n",
    "\t\tself.ssl = en.ExpNeuron(beta = beta, threshold = threshold,\n",
    "\t\t\t\t\t\t\t\t   \tmembrane_zero= membrane_zero,\n",
    "\t\t\t\t\t\t\t\t\tmembrane_min = membrane_min,\n",
    "\t\t\t\t\t\t\t\t\tlearn_beta= True, \n",
    "\t\t\t\t\t\t\t\t\tlearn_threshold= True,\n",
    "\t\t\t\t\t\t\t\t\tlearn_membrane_min= True)\n",
    "\t\t\n",
    "\t\t# self.fll.weight.data.clamp_(min=0.05)\n",
    "\t\t# self.sll.weight.data.clamp_(min=0.05)\n",
    "\t\t\n",
    "\tdef forward(self, spk_input):\n",
    "\t\tmem1 = self.fsl.init_neuron()\n",
    "\t\tmem2 = self.ssl.init_neuron()\n",
    "\n",
    "\t\tspk_output = []\n",
    "\t\tfor step in range(spk_input.shape[1]):\n",
    "\t\t\tcur1 = self.fll(spk_input.to(torch.float32)[:, step])\n",
    "\t\t\tspk1, mem1 = self.fsl(cur1, mem1)\n",
    "\t\t\tcur2 = self.sll(spk1)\n",
    "\t\t\tspk2, mem2 = self.ssl(cur2, mem2)\n",
    "\t\t\t\n",
    "\t\t\tspk_output.append(spk2)\n",
    "\t\t\n",
    "\t\treturn torch.stack(spk_output)"
   ]
  },
  {
   "cell_type": "code",
   "execution_count": 97,
   "id": "c7bac1fa",
   "metadata": {},
   "outputs": [],
   "source": [
    "file_path = \"../iris_folder/Iris.csv\"\n",
    "df = pd.read_csv(filepath_or_buffer= file_path, sep= \",\", header= 0)\n",
    "df.drop(\"Id\", axis= 1, inplace= True)\n",
    "\n",
    "# преобразование датафрейма\n",
    "species = df[\"Species\"].unique()\n",
    "\n",
    "# При присваивании происходит изменение типа данных на object\n",
    "for i in range(len(species)):\n",
    "\tdf.loc[df[\"Species\"] == species[i], \"Species\"] = i\n",
    "df[\"Species\"] = df[\"Species\"].astype(\"int\")\n",
    "\n",
    "columns_headers = df.columns\n",
    "\n",
    "# Не учитываю species\n",
    "for header in columns_headers[:-1]:\n",
    "\t# Нормализую знеачения\n",
    "\tdf[header] = df[header] / df[header].max()\n",
    "# создание датасета для обучения\n",
    "data = []\n",
    "num_steps = 100\n",
    "batch_size = 1\n",
    "\n",
    "for header in columns_headers:\n",
    "\tdata.append(torch.tensor(df[header].values))\n",
    "\n",
    "# Транспонируем тензор, чтобы иметь features и target каждого образца\n",
    "data = torch.stack(data, dim = 0).T\n",
    "\n",
    "trains = snngen.rate(data= data[:, :-1], num_steps= num_steps)\n",
    "\n",
    "# labels = snngen.targets_rate(data[:, -1], num_classes=3)\n",
    "labels = data[:, -1]\n",
    "# Возможно полная хрень. Требует проверки\n",
    "# Я уверен, что с осями какой-то косяк, так что придется переделывать при плохих результатах обучения\n",
    "trains = trains.permute(1, 0, 2)\n",
    "dataset = TensorDataset(trains, labels)\n",
    "train_data, test_data = random_split(dataset, [0.8, 0.2])\n",
    "train_data_loader = DataLoader(train_data, shuffle= True, batch_size=batch_size)\n",
    "test_data_loader = DataLoader(test_data, shuffle= True)\n",
    "lrng_rt = 5e-3\n",
    "\n",
    "epochs = 5\n",
    "net = Net(beta = 0.3, threshold = 0.5, membrane_zero = 0.2, membrane_min = 0.3)\n",
    "optim = torch.optim.Adam(net.parameters(), lr = lrng_rt, weight_decay= 0.01)\n",
    "loss_fn = snnfunc.loss.ce_rate_loss()\n",
    "\n",
    "loss_rec = []"
   ]
  },
  {
   "cell_type": "code",
   "execution_count": 98,
   "id": "672d1a6d",
   "metadata": {},
   "outputs": [
    {
     "name": "stdout",
     "output_type": "stream",
     "text": [
      "Epoch 0, Loss: 1.0986\n",
      "Epoch 1, Loss: 0.9130\n",
      "Epoch 2, Loss: 0.8676\n",
      "Epoch 3, Loss: 0.8921\n",
      "Epoch 4, Loss: 0.6556\n",
      "accuracy : 0.47\n",
      "fll.weight Parameter containing:\n",
      "tensor([[ 0.0891,  0.0773,  0.0806,  0.0728],\n",
      "        [ 0.0288,  0.1513, -0.1855, -0.2760],\n",
      "        [ 0.0363, -0.1109,  0.2811,  0.3057],\n",
      "        [ 0.0334,  0.1059, -0.1296, -0.2214]], requires_grad=True)\n",
      "fsl.threshold Parameter containing:\n",
      "tensor(0.2541, requires_grad=True)\n",
      "fsl.beta Parameter containing:\n",
      "tensor(-0.0194, requires_grad=True)\n",
      "sll.weight Parameter containing:\n",
      "tensor([[ 0.1348,  0.8099, -0.2371,  0.2780],\n",
      "        [-0.0374, -0.0151,  0.2906, -0.2058],\n",
      "        [ 0.1904, -0.4392,  0.5397, -0.3507]], requires_grad=True)\n",
      "ssl.threshold Parameter containing:\n",
      "tensor(0.7402, requires_grad=True)\n",
      "ssl.beta Parameter containing:\n",
      "tensor(-0.0315, requires_grad=True)\n",
      "ssl.membrane_min Parameter containing:\n",
      "tensor(0.9600, requires_grad=True)\n"
     ]
    }
   ],
   "source": [
    "for epoch in range(epochs):\n",
    "\t\tfor trns, lbls in train_data_loader:\n",
    "\t\t\t\toptim.zero_grad()\n",
    "\t\t\t\toutputs = net(trns)\n",
    "\t\t\t\t\n",
    "\t\t\t\tloss = loss_fn(spk_out=outputs, targets= lbls.to(torch.long))\n",
    "\t\t\t\tloss.backward()\n",
    "\t\t\t\toptim.step()\n",
    "\n",
    "\t\t\t\t# with torch.no_grad():\n",
    "\t\t\t\t# \tfor param in net.parameters():\n",
    "\t\t\t\t# \t\tparam.clamp_(min=0.05)\n",
    "\t\t\t\t# \t# net.fsl.beta.clamp_(0.09, 0.99)\n",
    "\t\t\t\t# \t# net.fsl.threshold.clamp_(0.15, 0.99)\n",
    "\t\t\t\t# \t# net.ssl.beta.clamp_(0.09, 0.99)\n",
    "\t\t\t\t# \t# net.ssl.threshold.clamp_(0.15, 0.99)\n",
    "\n",
    "\n",
    "\t\tprint((f\"Epoch {epoch}, Loss: {loss.item():.4f}\"))\n",
    "\n",
    "\t\tloss_rec.append(loss.item())\n",
    "\n",
    "# Testing accuracy\n",
    "data = []\n",
    "for trn, lbl in test_data_loader:\n",
    "\t\tprediction = net(trn)\n",
    "\t\tprediction = torch.mean(input= prediction.unsqueeze(0), dim = 1)\n",
    "\n",
    "\t\tdata.append([prediction.argmax().item(), lbl.item()])\n",
    "\t\t\n",
    "data = torch.tensor(data)\n",
    "accurate = data[(data[:, 0] == data[:, 1]), 0].numel()\n",
    "accuracy = accurate/data.shape[0]\n",
    "\n",
    "print((f\"accuracy : {accuracy:.2f}\"))\n",
    "\n",
    "for par, val in net.named_parameters():\n",
    "    print(par, val)"
   ]
  },
  {
   "cell_type": "code",
   "execution_count": 86,
   "id": "3daae9c0",
   "metadata": {},
   "outputs": [
    {
     "data": {
      "image/png": "[encoded data removed]",
      "text/plain": [
       "<Figure size 640x480 with 1 Axes>"
      ]
     },
     "metadata": {},
     "output_type": "display_data"
    }
   ],
   "source": [
    "import matplotlib.pyplot as plt\n",
    "\n",
    "plt.plot(loss_rec, label=\"ce_count_loss\")\n",
    "plt.legend()\n",
    "plt.grid()\n",
    "plt.show()"
   ]
  },
  {
   "cell_type": "code",
   "execution_count": 87,
   "id": "fdde3370",
   "metadata": {},
   "outputs": [
    {
     "name": "stdout",
     "output_type": "stream",
     "text": [
      "fll.weight Parameter containing:\n",
      "tensor([[-0.0697, -0.1095, -0.0711,  0.0617],\n",
      "        [ 0.4829, -0.0437,  0.2215, -0.6030],\n",
      "        [-0.2336, -0.1992, -0.1050, -0.3589],\n",
      "        [ 0.0740, -0.0621,  0.5454,  0.1671]], requires_grad=True)\n",
      "fsl.threshold Parameter containing:\n",
      "tensor(0.5789, requires_grad=True)\n",
      "fsl.beta Parameter containing:\n",
      "tensor(0.5001, requires_grad=True)\n",
      "sll.weight Parameter containing:\n",
      "tensor([[-0.4278,  0.3349,  0.1350, -0.7508],\n",
      "        [ 0.3771, -0.3173,  0.4108,  0.3493],\n",
      "        [-0.1897, -0.3212, -0.0506,  0.4172]], requires_grad=True)\n",
      "ssl.threshold Parameter containing:\n",
      "tensor(0.1693, requires_grad=True)\n",
      "ssl.beta Parameter containing:\n",
      "tensor(0.0622, requires_grad=True)\n"
     ]
    }
   ],
   "source": [
    "for par, val in net.named_parameters():\n",
    "    print(par, val)\n",
    "\n",
    "# torch.save(net.state_dict(), \"fisher_iris_weights.pth\")\n"
   ]
  }
 ],
 "metadata": {
  "kernelspec": {
   "display_name": "Python 3",
   "language": "python",
   "name": "python3"
  },
  "language_info": {
   "codemirror_mode": {
    "name": "ipython",
    "version": 3
   },
   "file_extension": ".py",
   "mimetype": "text/x-python",
   "name": "python",
   "nbconvert_exporter": "python",
   "pygments_lexer": "ipython3",
   "version": "3.9.0"
  }
 },
 "nbformat": 4,
 "nbformat_minor": 5
}
